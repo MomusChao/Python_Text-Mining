{
 "cells": [
  {
   "cell_type": "markdown",
   "metadata": {},
   "source": [
    "# Cosine similarity   "
   ]
  },
  {
   "cell_type": "markdown",
   "metadata": {},
   "source": [
    "## Editor: Ching Tou, Chao"
   ]
  },
  {
   "cell_type": "code",
   "execution_count": null,
   "metadata": {
    "collapsed": true
   },
   "outputs": [],
   "source": [
    "#read stopword\n",
    "with open(\"stopword_chinese.txt\", 'r', encoding='UTF-8') as readstoplist:\n",
    "    stoptext = readstoplist.readlines()\n",
    "stoplist=[line.replace(\"\\n\",\"\") for line in stoptext]\n",
    "stoplist"
   ]
  },
  {
   "cell_type": "code",
   "execution_count": null,
   "metadata": {
    "collapsed": true
   },
   "outputs": [],
   "source": [
    "#split maintext\n",
    "f1 = open('TMBD_news_files_2000.txt', 'r', encoding='UTF-8')\n",
    "content_read = f1.read()\n",
    "content_split = content_read.split()\n",
    "content_split"
   ]
  },
  {
   "cell_type": "code",
   "execution_count": 3,
   "metadata": {
    "collapsed": false
   },
   "outputs": [
    {
     "data": {
      "text/plain": [
       "168"
      ]
     },
     "execution_count": 3,
     "metadata": {},
     "output_type": "execute_result"
    }
   ],
   "source": [
    "len(stoplist)"
   ]
  },
  {
   "cell_type": "code",
   "execution_count": 4,
   "metadata": {
    "collapsed": false
   },
   "outputs": [
    {
     "data": {
      "text/plain": [
       "655851"
      ]
     },
     "execution_count": 4,
     "metadata": {},
     "output_type": "execute_result"
    }
   ],
   "source": [
    "len(content_split)"
   ]
  },
  {
   "cell_type": "markdown",
   "metadata": {},
   "source": [
    "# stopword removal"
   ]
  },
  {
   "cell_type": "code",
   "execution_count": null,
   "metadata": {
    "collapsed": true
   },
   "outputs": [],
   "source": [
    "#stopword removal\n",
    "for a in range(0,168):\n",
    "   for b in range(0,655851):\n",
    "    if content_split[b] == stoplist[a]:\n",
    "        content_split[b] = \"\"\n",
    "content_removal_1 = content_split\n",
    "content_removal_1"
   ]
  },
  {
   "cell_type": "code",
   "execution_count": 6,
   "metadata": {
    "collapsed": false
   },
   "outputs": [
    {
     "data": {
      "text/plain": [
       "655851"
      ]
     },
     "execution_count": 6,
     "metadata": {},
     "output_type": "execute_result"
    }
   ],
   "source": [
    "len(content_removal_1)"
   ]
  },
  {
   "cell_type": "markdown",
   "metadata": {},
   "source": [
    "# punctuation removal"
   ]
  },
  {
   "cell_type": "code",
   "execution_count": null,
   "metadata": {
    "collapsed": true
   },
   "outputs": [],
   "source": [
    "#read punctuation\n",
    "with open(\"punctuation.txt\", 'r', encoding='UTF-8') as PunText:\n",
    "    punctext = PunText.readlines()\n",
    "punlist=[line.replace(\"\\n\",\"\") for line in punctext]\n",
    "punlist"
   ]
  },
  {
   "cell_type": "code",
   "execution_count": 8,
   "metadata": {
    "collapsed": false
   },
   "outputs": [
    {
     "data": {
      "text/plain": [
       "43"
      ]
     },
     "execution_count": 8,
     "metadata": {},
     "output_type": "execute_result"
    }
   ],
   "source": [
    "len(punlist)"
   ]
  },
  {
   "cell_type": "code",
   "execution_count": null,
   "metadata": {
    "collapsed": true
   },
   "outputs": [],
   "source": [
    "for a in range(0,43):\n",
    "   for b in range(0,655851):\n",
    "    if content_removal_1[b] == punlist[a]:\n",
    "        content_removal_1[b] = \"\"\n",
    "content_clear_punctuation = content_removal_1\n",
    "content_clear_punctuation"
   ]
  },
  {
   "cell_type": "code",
   "execution_count": 10,
   "metadata": {
    "collapsed": false
   },
   "outputs": [
    {
     "data": {
      "text/plain": [
       "655851"
      ]
     },
     "execution_count": 10,
     "metadata": {},
     "output_type": "execute_result"
    }
   ],
   "source": [
    "len(content_clear_punctuation)"
   ]
  },
  {
   "cell_type": "markdown",
   "metadata": {},
   "source": [
    "# Rank term by frequency"
   ]
  },
  {
   "cell_type": "code",
   "execution_count": null,
   "metadata": {
    "collapsed": true
   },
   "outputs": [],
   "source": [
    "import collections\n",
    "counter=collections.Counter(content_clear_punctuation)\n",
    "print(counter)"
   ]
  },
  {
   "cell_type": "code",
   "execution_count": null,
   "metadata": {
    "collapsed": true
   },
   "outputs": [],
   "source": [
    "dictionary_raw = dict(zip(counter.keys(), counter.values()))\n",
    "dictionary_raw"
   ]
  },
  {
   "cell_type": "code",
   "execution_count": null,
   "metadata": {
    "collapsed": true
   },
   "outputs": [],
   "source": [
    "from collections import Counter\n",
    "c=Counter(dictionary_raw)\n",
    "dictionary_sort = c.most_common()\n",
    "dictionary_sort"
   ]
  },
  {
   "cell_type": "code",
   "execution_count": 14,
   "metadata": {
    "collapsed": true
   },
   "outputs": [],
   "source": [
    "del dictionary_sort[0]"
   ]
  },
  {
   "cell_type": "markdown",
   "metadata": {},
   "source": [
    "# Count Threshold"
   ]
  },
  {
   "cell_type": "code",
   "execution_count": 16,
   "metadata": {
    "collapsed": false
   },
   "outputs": [
    {
     "data": {
      "text/plain": [
       "37295"
      ]
     },
     "execution_count": 16,
     "metadata": {},
     "output_type": "execute_result"
    }
   ],
   "source": [
    "len(dictionary_sort)"
   ]
  },
  {
   "cell_type": "code",
   "execution_count": 17,
   "metadata": {
    "collapsed": false
   },
   "outputs": [
    {
     "data": {
      "text/plain": [
       "408256"
      ]
     },
     "execution_count": 17,
     "metadata": {},
     "output_type": "execute_result"
    }
   ],
   "source": [
    "CT1=0\n",
    "for a in range(0,37295):\n",
    "    CT1 = CT1 + dictionary_sort[a][1]\n",
    "CT1"
   ]
  },
  {
   "cell_type": "code",
   "execution_count": 18,
   "metadata": {
    "collapsed": false
   },
   "outputs": [
    {
     "data": {
      "text/plain": [
       "5.6109325761343474"
      ]
     },
     "execution_count": 18,
     "metadata": {},
     "output_type": "execute_result"
    }
   ],
   "source": [
    "import numpy as np\n",
    "CT2 = np.log10(CT1)\n",
    "CT2"
   ]
  },
  {
   "cell_type": "markdown",
   "metadata": {},
   "source": [
    "# Avoid Noise from rarely occuring words"
   ]
  },
  {
   "cell_type": "code",
   "execution_count": 19,
   "metadata": {
    "collapsed": false
   },
   "outputs": [],
   "source": [
    "dictionary_after_Threshold=list()"
   ]
  },
  {
   "cell_type": "code",
   "execution_count": 20,
   "metadata": {
    "collapsed": false
   },
   "outputs": [],
   "source": [
    "for a in range(0,37295):\n",
    "    if CT2 <= dictionary_sort[a][1]:\n",
    "        dictionary_after_Threshold.append(dictionary_sort[a])"
   ]
  },
  {
   "cell_type": "code",
   "execution_count": null,
   "metadata": {
    "collapsed": true
   },
   "outputs": [],
   "source": [
    "dictionary_after_Threshold"
   ]
  },
  {
   "cell_type": "code",
   "execution_count": 22,
   "metadata": {
    "collapsed": false
   },
   "outputs": [
    {
     "data": {
      "text/plain": [
       "9119"
      ]
     },
     "execution_count": 22,
     "metadata": {},
     "output_type": "execute_result"
    }
   ],
   "source": [
    "len(dictionary_after_Threshold)"
   ]
  },
  {
   "cell_type": "markdown",
   "metadata": {},
   "source": [
    "# Document Frequency, DF"
   ]
  },
  {
   "cell_type": "code",
   "execution_count": 23,
   "metadata": {
    "collapsed": false
   },
   "outputs": [],
   "source": [
    "# read document & save separately\n",
    "w, h = 2, 2000; #col & row\n",
    "Fragment = [[0 for x in range(w)] for y in range(h)] \n",
    "c = 0\n",
    "\n",
    "f1 = open('TMBD_news_files_2000.txt', 'r', encoding='UTF-8')\n",
    "for line in f1:\n",
    "    Fragment[c] = line\n",
    "    c = c+1"
   ]
  },
  {
   "cell_type": "code",
   "execution_count": 24,
   "metadata": {
    "collapsed": false
   },
   "outputs": [
    {
     "data": {
      "text/plain": [
       "'1\\tNBAWade 出書 談 爸爸 經 \\u3000 澄清 和 教練 爭執 記者 邵瑞峰 綜合 報導 熱火 「 閃電俠 」 Dwyane Wade 近日 推出 了 新書 「 A Father First : How My Life Became Bigger Than Basketball 」 ， 還 特地 送 了 一 本 簽名書 給 好兄弟 「 小 皇帝 」 Lebron James ， Wade 在 書 中 除了 大談 爸爸 經 ， 也 透露 了 一些 不 為 人 知 的 熱火 秘辛 ， 包括 他 在 季後賽 準決賽 第三 戰 和 教練 Erik Spoelstra 對罵 的 內幕 。 Wade 在 今年 季後賽 面對 溜 馬的 東區 準決賽 第三 戰時 ， 於 比賽 中和 Spoelstra 發生 激烈 衝突 ， 兩 人 在 板凳 席 破口大罵 對方 的 畫面 甚至 透過 電視 轉播 讓 所有 球迷 都 看到 了 ， 對 此 Wade 在 書 中 解釋 了 當時 的 情況 ， 表示 自己 那時 正 飽受 膝傷 折磨 ， 而 Spoelstra 正好 被 他 的 怒火 給 掃 到 。 「 ( Spoelstra ) 可能 想 試 著 讓 我 生氣 ， 因為 我 生氣 的 時候 通常 表現 都 很 好 ， 」 Wade 表示 ： 「 不過 當時 其實 我 是 挫折 多過 於 憤怒 ， 帶 著 挫折 上場 和 帶 著 怒火 上場 可是 完全 不 一樣 的 事 。 」 雖然 直言 Spoelstra 當時 激勵 他 的 策略 失效 ， 不過 Wade 還是 對於 這 位 總教練 推崇 有加 ， 表示 他 「 讓 我 大開眼界 、 學到 了 身為 一 個 冠軍 應該 有的 心態 和 所作所為 。 」 除了 Spoelstra ， Wade 也 在 書 中 談到 了 本 季 因 「 魔獸 人生 」 被 魔術 炒掉 的 前 熱火 教頭 Stan Van Gundy ， 「 Van Gundy 教練 是 那 種會 一直 叮嚀 你 ， 直到 你 耳 邊 、 潛意識 都 是 他 的 聲音 ， 」 Wade 表示 ： 「 總是 在 歇斯底里 ， 他 的 風格 就是 永遠 保持 在 高度 緊繃 狀態 。 不過 也 是 因為 Stan 才 造就 了 我 的 強悍 程度 和 高度 集中 的 態度 。 」 \\n'"
      ]
     },
     "execution_count": 24,
     "metadata": {},
     "output_type": "execute_result"
    }
   ],
   "source": [
    "Fragment[0]"
   ]
  },
  {
   "cell_type": "code",
   "execution_count": 25,
   "metadata": {
    "collapsed": false
   },
   "outputs": [],
   "source": [
    "#splite documents\n",
    "for i in range (0,2000):\n",
    "    Fragment[i] = Fragment[i].split( )"
   ]
  },
  {
   "cell_type": "code",
   "execution_count": 26,
   "metadata": {
    "collapsed": true
   },
   "outputs": [],
   "source": [
    "# DF\n",
    "DF_list = list()\n",
    "count = 0\n",
    "\n",
    "for i in range (0,9119):\n",
    "    for j in range (0,2000):\n",
    "        if dictionary_after_Threshold[i][0] in Fragment[j]:\n",
    "            count = count + 1\n",
    "    DF_list.append(count)\n",
    "    count=0    "
   ]
  },
  {
   "cell_type": "code",
   "execution_count": 27,
   "metadata": {
    "collapsed": false
   },
   "outputs": [
    {
     "data": {
      "text/plain": [
       "'報導'"
      ]
     },
     "execution_count": 27,
     "metadata": {},
     "output_type": "execute_result"
    }
   ],
   "source": [
    "dictionary_after_Threshold[0][0]"
   ]
  },
  {
   "cell_type": "code",
   "execution_count": null,
   "metadata": {
    "collapsed": true
   },
   "outputs": [],
   "source": [
    "DF_list"
   ]
  },
  {
   "cell_type": "code",
   "execution_count": 29,
   "metadata": {
    "collapsed": false
   },
   "outputs": [
    {
     "data": {
      "text/plain": [
       "9119"
      ]
     },
     "execution_count": 29,
     "metadata": {},
     "output_type": "execute_result"
    }
   ],
   "source": [
    "len(DF_list)"
   ]
  },
  {
   "cell_type": "markdown",
   "metadata": {},
   "source": [
    "# Inverse Document Frequemcy, IDF"
   ]
  },
  {
   "cell_type": "code",
   "execution_count": 30,
   "metadata": {
    "collapsed": true
   },
   "outputs": [],
   "source": [
    "import numpy as np\n",
    "IDF_list = list()\n",
    "for dd in DF_list:\n",
    "    temp = np.log10(2000/dd)\n",
    "    IDF_list.append(temp)"
   ]
  },
  {
   "cell_type": "code",
   "execution_count": null,
   "metadata": {
    "collapsed": true
   },
   "outputs": [],
   "source": [
    "IDF_list"
   ]
  },
  {
   "cell_type": "code",
   "execution_count": 32,
   "metadata": {
    "collapsed": false
   },
   "outputs": [
    {
     "data": {
      "text/plain": [
       "9119"
      ]
     },
     "execution_count": 32,
     "metadata": {},
     "output_type": "execute_result"
    }
   ],
   "source": [
    "len(IDF_list)"
   ]
  },
  {
   "cell_type": "markdown",
   "metadata": {},
   "source": [
    "# Term Frequence, TF"
   ]
  },
  {
   "cell_type": "code",
   "execution_count": null,
   "metadata": {
    "collapsed": true
   },
   "outputs": [],
   "source": [
    "bone=dictionary_after_Threshold\n",
    "bone"
   ]
  },
  {
   "cell_type": "code",
   "execution_count": 34,
   "metadata": {
    "collapsed": true
   },
   "outputs": [],
   "source": [
    "docdoc=[]\n",
    "for subdoc in Fragment:\n",
    "    docr = []\n",
    "    for ii in bone:\n",
    "        count = subdoc.count(ii[0])\n",
    "        docr.append(count)\n",
    "    docdoc.append(docr)"
   ]
  },
  {
   "cell_type": "code",
   "execution_count": 35,
   "metadata": {
    "collapsed": false
   },
   "outputs": [
    {
     "data": {
      "text/plain": [
       "5"
      ]
     },
     "execution_count": 35,
     "metadata": {},
     "output_type": "execute_result"
    }
   ],
   "source": [
    "docdoc[1497][[bon[0] for bon in bone].index(\"比賽\")]"
   ]
  },
  {
   "cell_type": "code",
   "execution_count": 36,
   "metadata": {
    "collapsed": false
   },
   "outputs": [
    {
     "data": {
      "text/plain": [
       "9119"
      ]
     },
     "execution_count": 36,
     "metadata": {},
     "output_type": "execute_result"
    }
   ],
   "source": [
    "len(docdoc[0])"
   ]
  },
  {
   "cell_type": "code",
   "execution_count": 37,
   "metadata": {
    "collapsed": false
   },
   "outputs": [
    {
     "data": {
      "text/plain": [
       "2000"
      ]
     },
     "execution_count": 37,
     "metadata": {},
     "output_type": "execute_result"
    }
   ],
   "source": [
    "len(docdoc)"
   ]
  },
  {
   "cell_type": "markdown",
   "metadata": {
    "collapsed": true
   },
   "source": [
    "# TF-IDF weighting"
   ]
  },
  {
   "cell_type": "code",
   "execution_count": 38,
   "metadata": {
    "collapsed": false
   },
   "outputs": [],
   "source": [
    "TF_IDF=[]\n",
    "for doct in docdoc:\n",
    "    ttt=[]\n",
    "    for ind,sub in enumerate(doct):\n",
    "        ttt.append(sub*IDF_list[ind])\n",
    "    TF_IDF.append(ttt)"
   ]
  },
  {
   "cell_type": "code",
   "execution_count": 39,
   "metadata": {
    "collapsed": false
   },
   "outputs": [
    {
     "data": {
      "text/plain": [
       "0.080137746444461935"
      ]
     },
     "execution_count": 39,
     "metadata": {},
     "output_type": "execute_result"
    }
   ],
   "source": [
    "TF_IDF[0][0]"
   ]
  },
  {
   "cell_type": "code",
   "execution_count": 40,
   "metadata": {
    "collapsed": false
   },
   "outputs": [
    {
     "data": {
      "text/plain": [
       "2000"
      ]
     },
     "execution_count": 40,
     "metadata": {},
     "output_type": "execute_result"
    }
   ],
   "source": [
    "len(TF_IDF)"
   ]
  },
  {
   "cell_type": "markdown",
   "metadata": {},
   "source": [
    "# Vector Space Model - Cosine similarity"
   ]
  },
  {
   "cell_type": "code",
   "execution_count": 41,
   "metadata": {
    "collapsed": true
   },
   "outputs": [],
   "source": [
    "from scipy import spatial\n",
    "Similarity=[]\n",
    "for ind,sub in enumerate(TF_IDF):\n",
    "    Similarity.append(1 - spatial.distance.cosine(TF_IDF[55],TF_IDF[ind]))"
   ]
  },
  {
   "cell_type": "code",
   "execution_count": null,
   "metadata": {
    "collapsed": true
   },
   "outputs": [],
   "source": [
    "Similarity"
   ]
  },
  {
   "cell_type": "code",
   "execution_count": 43,
   "metadata": {
    "collapsed": false
   },
   "outputs": [],
   "source": [
    "Similarity_raw =[[idd,en] for idd,en in enumerate(Similarity)]"
   ]
  },
  {
   "cell_type": "code",
   "execution_count": null,
   "metadata": {
    "collapsed": true
   },
   "outputs": [],
   "source": [
    "Similarity_raw"
   ]
  },
  {
   "cell_type": "code",
   "execution_count": 45,
   "metadata": {
    "collapsed": true
   },
   "outputs": [],
   "source": [
    "# sort the result\n",
    "Similarity_sort =sorted(Similarity_raw, key = lambda x : x[1], reverse=True) "
   ]
  },
  {
   "cell_type": "code",
   "execution_count": null,
   "metadata": {
    "collapsed": true
   },
   "outputs": [],
   "source": [
    "Similarity_sort"
   ]
  },
  {
   "cell_type": "code",
   "execution_count": 48,
   "metadata": {
    "collapsed": false
   },
   "outputs": [
    {
     "data": {
      "text/plain": [
       "[[51, 0.24343067928932505],\n",
       " [1211, 0.16885134849474015],\n",
       " [1148, 0.15901569219706202],\n",
       " [1285, 0.13767104136633501],\n",
       " [1456, 0.13472478032336477],\n",
       " [1208, 0.12552898009196833],\n",
       " [440, 0.11565531099854698],\n",
       " [1274, 0.11379862755685421],\n",
       " [411, 0.11371464146228205],\n",
       " [1184, 0.11271683310778169]]"
      ]
     },
     "execution_count": 48,
     "metadata": {},
     "output_type": "execute_result"
    }
   ],
   "source": [
    "# show the top 10\n",
    "Similarity_sort[1:11]"
   ]
  }
 ],
 "metadata": {
  "anaconda-cloud": {},
  "kernelspec": {
   "display_name": "Python [default]",
   "language": "python",
   "name": "python3"
  },
  "language_info": {
   "codemirror_mode": {
    "name": "ipython",
    "version": 3
   },
   "file_extension": ".py",
   "mimetype": "text/x-python",
   "name": "python",
   "nbconvert_exporter": "python",
   "pygments_lexer": "ipython3",
   "version": "3.5.2"
  }
 },
 "nbformat": 4,
 "nbformat_minor": 1
}
