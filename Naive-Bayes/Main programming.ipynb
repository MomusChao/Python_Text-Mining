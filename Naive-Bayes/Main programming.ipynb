{
 "cells": [
  {
   "cell_type": "markdown",
   "metadata": {},
   "source": [
    "## Editor: Ching Tou, Chao\n"
   ]
  },
  {
   "cell_type": "markdown",
   "metadata": {},
   "source": [
    "### TrainingData - read"
   ]
  },
  {
   "cell_type": "code",
   "execution_count": 1,
   "metadata": {
    "collapsed": true
   },
   "outputs": [],
   "source": [
    "# read document & save separately\n",
    "w, h = 2, 3500; #col & row\n",
    "Fragment = [[0 for x in range(w)] for y in range(h)] \n",
    "c = 0\n",
    "\n",
    "f1 = open('TrainingData.txt', 'r', encoding='UTF-8')\n",
    "for line in f1:\n",
    "    Fragment[c] = line\n",
    "    c = c+1"
   ]
  },
  {
   "cell_type": "code",
   "execution_count": 2,
   "metadata": {
    "collapsed": false
   },
   "outputs": [
    {
     "data": {
      "text/plain": [
       "'1\\tsports\\tNBAWade 出書 談 爸爸 經 \\u3000 澄清 和 教練 爭執 記者 邵瑞峰 綜合 報導 熱火 「 閃電俠 」 Dwyane Wade 近日 推出 了 新書 「 A Father First : How My Life Became Bigger Than Basketball 」 ， 還 特地 送 了 一 本 簽名書 給 好兄弟 「 小 皇帝 」 Lebron James ， Wade 在 書 中 除了 大談 爸爸 經 ， 也 透露 了 一些 不 為 人 知 的 熱火 秘辛 ， 包括 他 在 季後賽 準決賽 第三 戰 和 教練 Erik Spoelstra 對罵 的 內幕 。 Wade 在 今年 季後賽 面對 溜 馬的 東區 準決賽 第三 戰時 ， 於 比賽 中和 Spoelstra 發生 激烈 衝突 ， 兩 人 在 板凳 席 破口大罵 對方 的 畫面 甚至 透過 電視 轉播 讓 所有 球迷 都 看到 了 ， 對 此 Wade 在 書 中 解釋 了 當時 的 情況 ， 表示 自己 那時 正 飽受 膝傷 折磨 ， 而 Spoelstra 正好 被 他 的 怒火 給 掃 到 。 「 ( Spoelstra ) 可能 想 試 著 讓 我 生氣 ， 因為 我 生氣 的 時候 通常 表現 都 很 好 ， 」 Wade 表示 ： 「 不過 當時 其實 我 是 挫折 多過 於 憤怒 ， 帶 著 挫折 上場 和 帶 著 怒火 上場 可是 完全 不 一樣 的 事 。 」 雖然 直言 Spoelstra 當時 激勵 他 的 策略 失效 ， 不過 Wade 還是 對於 這 位 總教練 推崇 有加 ， 表示 他 「 讓 我 大開眼界 、 學到 了 身為 一 個 冠軍 應該 有的 心態 和 所作所為 。 」 除了 Spoelstra ， Wade 也 在 書 中 談到 了 本 季 因 「 魔獸 人生 」 被 魔術 炒掉 的 前 熱火 教頭 Stan Van Gundy ， 「 Van Gundy 教練 是 那 種會 一直 叮嚀 你 ， 直到 你 耳 邊 、 潛意識 都 是 他 的 聲音 ， 」 Wade 表示 ： 「 總是 在 歇斯底里 ， 他 的 風格 就是 永遠 保持 在 高度 緊繃 狀態 。 不過 也 是 因為 Stan 才 造就 了 我 的 強悍 程度 和 高度 集中 的 態度 。 」 \\n'"
      ]
     },
     "execution_count": 2,
     "metadata": {},
     "output_type": "execute_result"
    }
   ],
   "source": [
    "Fragment[0]"
   ]
  },
  {
   "cell_type": "code",
   "execution_count": 3,
   "metadata": {
    "collapsed": false
   },
   "outputs": [
    {
     "data": {
      "text/plain": [
       "3500"
      ]
     },
     "execution_count": 3,
     "metadata": {},
     "output_type": "execute_result"
    }
   ],
   "source": [
    "len(Fragment)"
   ]
  },
  {
   "cell_type": "markdown",
   "metadata": {},
   "source": [
    "### TrainingData - Remove punctuation"
   ]
  },
  {
   "cell_type": "code",
   "execution_count": 4,
   "metadata": {
    "collapsed": false
   },
   "outputs": [],
   "source": [
    "puncList = [\"[\",\".\",\"!\",\"/\",\"-\",\">\",\"<\",\"$\",\"%\",\"^\",\"*\",\"(\",\"?\",\"]\",\"|\",\"[\",\"—\",\"！\",\"，\",\"。\",\"？\",\"、\",\"（\",\"）\",\"：\",\"」\",\"「\",\")\",\"(\",\"【\",\"】\",\"╱\",\"；\",\"]\",\"=\",\"「\",\"」\",\"‧\",\"（\",\"）\",\".\",\"~\",\"]\",\":\",\"《\",\"》\"]\n",
    "for i in range (0,3500):\n",
    "    for pun in puncList:\n",
    "        Fragment[i]= Fragment[i].replace(pun,\" \")"
   ]
  },
  {
   "cell_type": "code",
   "execution_count": 5,
   "metadata": {
    "collapsed": false
   },
   "outputs": [
    {
     "data": {
      "text/plain": [
       "'1\\tsports\\tNBAWade 出書 談 爸爸 經 \\u3000 澄清 和 教練 爭執 記者 邵瑞峰 綜合 報導 熱火   閃電俠   Dwyane Wade 近日 推出 了 新書   A Father First   How My Life Became Bigger Than Basketball     還 特地 送 了 一 本 簽名書 給 好兄弟   小 皇帝   Lebron James   Wade 在 書 中 除了 大談 爸爸 經   也 透露 了 一些 不 為 人 知 的 熱火 秘辛   包括 他 在 季後賽 準決賽 第三 戰 和 教練 Erik Spoelstra 對罵 的 內幕   Wade 在 今年 季後賽 面對 溜 馬的 東區 準決賽 第三 戰時   於 比賽 中和 Spoelstra 發生 激烈 衝突   兩 人 在 板凳 席 破口大罵 對方 的 畫面 甚至 透過 電視 轉播 讓 所有 球迷 都 看到 了   對 此 Wade 在 書 中 解釋 了 當時 的 情況   表示 自己 那時 正 飽受 膝傷 折磨   而 Spoelstra 正好 被 他 的 怒火 給 掃 到       Spoelstra   可能 想 試 著 讓 我 生氣   因為 我 生氣 的 時候 通常 表現 都 很 好     Wade 表示     不過 當時 其實 我 是 挫折 多過 於 憤怒   帶 著 挫折 上場 和 帶 著 怒火 上場 可是 完全 不 一樣 的 事     雖然 直言 Spoelstra 當時 激勵 他 的 策略 失效   不過 Wade 還是 對於 這 位 總教練 推崇 有加   表示 他   讓 我 大開眼界   學到 了 身為 一 個 冠軍 應該 有的 心態 和 所作所為     除了 Spoelstra   Wade 也 在 書 中 談到 了 本 季 因   魔獸 人生   被 魔術 炒掉 的 前 熱火 教頭 Stan Van Gundy     Van Gundy 教練 是 那 種會 一直 叮嚀 你   直到 你 耳 邊   潛意識 都 是 他 的 聲音     Wade 表示     總是 在 歇斯底里   他 的 風格 就是 永遠 保持 在 高度 緊繃 狀態   不過 也 是 因為 Stan 才 造就 了 我 的 強悍 程度 和 高度 集中 的 態度     \\n'"
      ]
     },
     "execution_count": 5,
     "metadata": {},
     "output_type": "execute_result"
    }
   ],
   "source": [
    "Fragment[0]"
   ]
  },
  {
   "cell_type": "markdown",
   "metadata": {
    "collapsed": true
   },
   "source": [
    "### TrainingData - Remove \\t, \\u3000,\\n"
   ]
  },
  {
   "cell_type": "code",
   "execution_count": 6,
   "metadata": {
    "collapsed": true
   },
   "outputs": [],
   "source": [
    "temp = [\"\\t\",\"\\u3000\",\"\\n\"]\n",
    "for i in range (0,3500):\n",
    "    for a in temp:\n",
    "        Fragment[i]= Fragment[i].replace(a,\" \")"
   ]
  },
  {
   "cell_type": "code",
   "execution_count": 7,
   "metadata": {
    "collapsed": false,
    "scrolled": true
   },
   "outputs": [
    {
     "data": {
      "text/plain": [
       "'1 sports NBAWade 出書 談 爸爸 經   澄清 和 教練 爭執 記者 邵瑞峰 綜合 報導 熱火   閃電俠   Dwyane Wade 近日 推出 了 新書   A Father First   How My Life Became Bigger Than Basketball     還 特地 送 了 一 本 簽名書 給 好兄弟   小 皇帝   Lebron James   Wade 在 書 中 除了 大談 爸爸 經   也 透露 了 一些 不 為 人 知 的 熱火 秘辛   包括 他 在 季後賽 準決賽 第三 戰 和 教練 Erik Spoelstra 對罵 的 內幕   Wade 在 今年 季後賽 面對 溜 馬的 東區 準決賽 第三 戰時   於 比賽 中和 Spoelstra 發生 激烈 衝突   兩 人 在 板凳 席 破口大罵 對方 的 畫面 甚至 透過 電視 轉播 讓 所有 球迷 都 看到 了   對 此 Wade 在 書 中 解釋 了 當時 的 情況   表示 自己 那時 正 飽受 膝傷 折磨   而 Spoelstra 正好 被 他 的 怒火 給 掃 到       Spoelstra   可能 想 試 著 讓 我 生氣   因為 我 生氣 的 時候 通常 表現 都 很 好     Wade 表示     不過 當時 其實 我 是 挫折 多過 於 憤怒   帶 著 挫折 上場 和 帶 著 怒火 上場 可是 完全 不 一樣 的 事     雖然 直言 Spoelstra 當時 激勵 他 的 策略 失效   不過 Wade 還是 對於 這 位 總教練 推崇 有加   表示 他   讓 我 大開眼界   學到 了 身為 一 個 冠軍 應該 有的 心態 和 所作所為     除了 Spoelstra   Wade 也 在 書 中 談到 了 本 季 因   魔獸 人生   被 魔術 炒掉 的 前 熱火 教頭 Stan Van Gundy     Van Gundy 教練 是 那 種會 一直 叮嚀 你   直到 你 耳 邊   潛意識 都 是 他 的 聲音     Wade 表示     總是 在 歇斯底里   他 的 風格 就是 永遠 保持 在 高度 緊繃 狀態   不過 也 是 因為 Stan 才 造就 了 我 的 強悍 程度 和 高度 集中 的 態度      '"
      ]
     },
     "execution_count": 7,
     "metadata": {},
     "output_type": "execute_result"
    }
   ],
   "source": [
    "Fragment[0]"
   ]
  },
  {
   "cell_type": "markdown",
   "metadata": {},
   "source": [
    "### TrainingData - split"
   ]
  },
  {
   "cell_type": "code",
   "execution_count": 8,
   "metadata": {
    "collapsed": true
   },
   "outputs": [],
   "source": [
    "# split\n",
    "for i in range (0,3500):\n",
    "    Fragment[i] = Fragment[i].split()"
   ]
  },
  {
   "cell_type": "code",
   "execution_count": 10,
   "metadata": {
    "collapsed": false
   },
   "outputs": [
    {
     "data": {
      "text/plain": [
       "297"
      ]
     },
     "execution_count": 10,
     "metadata": {},
     "output_type": "execute_result"
    }
   ],
   "source": [
    "len(Fragment[0])"
   ]
  },
  {
   "cell_type": "markdown",
   "metadata": {},
   "source": [
    "### TrainingData - Remove stopword"
   ]
  },
  {
   "cell_type": "code",
   "execution_count": 11,
   "metadata": {
    "collapsed": false
   },
   "outputs": [],
   "source": [
    "# import stopword\n",
    "f1 = open('stopword_chinese.txt', 'r', encoding='UTF-8')\n",
    "stopword = f1.read()\n",
    "stopword = stopword.split()"
   ]
  },
  {
   "cell_type": "code",
   "execution_count": 13,
   "metadata": {
    "collapsed": false
   },
   "outputs": [
    {
     "data": {
      "text/plain": [
       "168"
      ]
     },
     "execution_count": 13,
     "metadata": {},
     "output_type": "execute_result"
    }
   ],
   "source": [
    "len(stopword)"
   ]
  },
  {
   "cell_type": "code",
   "execution_count": 14,
   "metadata": {
    "collapsed": false
   },
   "outputs": [
    {
     "name": "stderr",
     "output_type": "stream",
     "text": [
      "100%|██████████████████████████████████████████████████████████████████████████████| 3500/3500 [00:36<00:00, 96.99it/s]\n"
     ]
    }
   ],
   "source": [
    "import time\n",
    "from tqdm import *\n",
    "\n",
    "for c in tqdm(range(0,3500)):\n",
    "    for a in range(0,168):\n",
    "       temp = len(Fragment[c])\n",
    "       for b in range(0,temp):\n",
    "        if Fragment[c][b] == stopword[a]:\n",
    "           Fragment[c][b] = \"\""
   ]
  },
  {
   "cell_type": "markdown",
   "metadata": {},
   "source": [
    "### TrainingData - remove DocID"
   ]
  },
  {
   "cell_type": "code",
   "execution_count": 16,
   "metadata": {
    "collapsed": true
   },
   "outputs": [],
   "source": [
    "for i in range (0,3500):\n",
    "    del Fragment[i][0]"
   ]
  },
  {
   "cell_type": "code",
   "execution_count": 18,
   "metadata": {
    "collapsed": false
   },
   "outputs": [
    {
     "data": {
      "text/plain": [
       "3500"
      ]
     },
     "execution_count": 18,
     "metadata": {},
     "output_type": "execute_result"
    }
   ],
   "source": [
    "len(Fragment)"
   ]
  },
  {
   "cell_type": "code",
   "execution_count": 19,
   "metadata": {
    "collapsed": false
   },
   "outputs": [
    {
     "data": {
      "text/plain": [
       "'sports'"
      ]
     },
     "execution_count": 19,
     "metadata": {},
     "output_type": "execute_result"
    }
   ],
   "source": [
    "Fragment[0][0]"
   ]
  },
  {
   "cell_type": "markdown",
   "metadata": {},
   "source": [
    "### TrainingData - remove Space"
   ]
  },
  {
   "cell_type": "code",
   "execution_count": 20,
   "metadata": {
    "collapsed": true
   },
   "outputs": [],
   "source": [
    "for i in range (0,3500):\n",
    "    Fragment[i]=' '.join(Fragment[i]).split()"
   ]
  },
  {
   "cell_type": "markdown",
   "metadata": {},
   "source": [
    "# TF about Topics"
   ]
  },
  {
   "cell_type": "code",
   "execution_count": 27,
   "metadata": {
    "collapsed": true
   },
   "outputs": [],
   "source": [
    "# separate topics\n",
    "list_Politics = []\n",
    "list_Sports = []\n",
    "\n",
    "for i in range(0,3500):\n",
    "    if Fragment[i][0] == 'sports':\n",
    "        list_Sports.append(Fragment[i])\n",
    "    else:\n",
    "        list_Politics.append(Fragment[i])"
   ]
  },
  {
   "cell_type": "code",
   "execution_count": 28,
   "metadata": {
    "collapsed": true
   },
   "outputs": [],
   "source": [
    "##########  topic about sports  ##########"
   ]
  },
  {
   "cell_type": "code",
   "execution_count": 29,
   "metadata": {
    "collapsed": false
   },
   "outputs": [
    {
     "data": {
      "text/plain": [
       "2000"
      ]
     },
     "execution_count": 29,
     "metadata": {},
     "output_type": "execute_result"
    }
   ],
   "source": [
    "len(list_Sports)"
   ]
  },
  {
   "cell_type": "code",
   "execution_count": 31,
   "metadata": {
    "collapsed": true
   },
   "outputs": [],
   "source": [
    "# delete Topic (sports)\n",
    "for i in range (0,2000):\n",
    "    del list_Sports[i][0]"
   ]
  },
  {
   "cell_type": "code",
   "execution_count": 32,
   "metadata": {
    "collapsed": false
   },
   "outputs": [
    {
     "name": "stderr",
     "output_type": "stream",
     "text": [
      "100%|█████████████████████████████████████████████████████████████████████████████| 2000/2000 [00:14<00:00, 142.03it/s]\n"
     ]
    }
   ],
   "source": [
    "# combine sports subset\n",
    "import time\n",
    "from tqdm import *\n",
    "\n",
    "list_Sports_all = []\n",
    "for i in tqdm(range(0,2000)):\n",
    "    list_Sports_all = list_Sports_all+list_Sports[i]"
   ]
  },
  {
   "cell_type": "code",
   "execution_count": 34,
   "metadata": {
    "collapsed": false
   },
   "outputs": [
    {
     "data": {
      "text/plain": [
       "381577"
      ]
     },
     "execution_count": 34,
     "metadata": {},
     "output_type": "execute_result"
    }
   ],
   "source": [
    "len(list_Sports_all)"
   ]
  },
  {
   "cell_type": "code",
   "execution_count": null,
   "metadata": {
    "collapsed": true
   },
   "outputs": [],
   "source": []
  },
  {
   "cell_type": "code",
   "execution_count": 35,
   "metadata": {
    "collapsed": true
   },
   "outputs": [],
   "source": [
    "##########  topic about politics  ##########"
   ]
  },
  {
   "cell_type": "code",
   "execution_count": 36,
   "metadata": {
    "collapsed": false
   },
   "outputs": [
    {
     "data": {
      "text/plain": [
       "1500"
      ]
     },
     "execution_count": 36,
     "metadata": {},
     "output_type": "execute_result"
    }
   ],
   "source": [
    "len(list_Politics)"
   ]
  },
  {
   "cell_type": "code",
   "execution_count": 37,
   "metadata": {
    "collapsed": true
   },
   "outputs": [],
   "source": [
    "# delete Topic (politics)\n",
    "for i in range (0,1500):\n",
    "    del list_Politics[i][0]"
   ]
  },
  {
   "cell_type": "code",
   "execution_count": 38,
   "metadata": {
    "collapsed": false
   },
   "outputs": [
    {
     "data": {
      "text/plain": [
       "['選', '前', '倒數', '戰況', '激', '林瑞雄', '出訪', '不丹', '選戰', '倒數', '23', '天']"
      ]
     },
     "execution_count": 38,
     "metadata": {},
     "output_type": "execute_result"
    }
   ],
   "source": [
    "list_Politics[1499]"
   ]
  },
  {
   "cell_type": "code",
   "execution_count": 39,
   "metadata": {
    "collapsed": false
   },
   "outputs": [
    {
     "name": "stderr",
     "output_type": "stream",
     "text": [
      "100%|█████████████████████████████████████████████████████████████████████████████| 1500/1500 [00:08<00:00, 180.23it/s]\n"
     ]
    }
   ],
   "source": [
    "# combine politics subset\n",
    "import time\n",
    "from tqdm import *\n",
    "\n",
    "list_Politics_all = []\n",
    "for i in tqdm(range(0,1500)):\n",
    "    list_Politics_all = list_Politics_all+list_Politics[i]"
   ]
  },
  {
   "cell_type": "code",
   "execution_count": 41,
   "metadata": {
    "collapsed": false
   },
   "outputs": [
    {
     "data": {
      "text/plain": [
       "297731"
      ]
     },
     "execution_count": 41,
     "metadata": {},
     "output_type": "execute_result"
    }
   ],
   "source": [
    "len(list_Politics_all)"
   ]
  },
  {
   "cell_type": "markdown",
   "metadata": {},
   "source": [
    "# Vocabulary V"
   ]
  },
  {
   "cell_type": "code",
   "execution_count": 42,
   "metadata": {
    "collapsed": false
   },
   "outputs": [
    {
     "name": "stderr",
     "output_type": "stream",
     "text": [
      "100%|██████████████████████████████████████████████████████████████████████████████| 3500/3500 [00:45<00:00, 77.43it/s]\n"
     ]
    }
   ],
   "source": [
    "import time\n",
    "from tqdm import *\n",
    "\n",
    "content_all = []\n",
    "for i in tqdm(range(0,3500)):\n",
    "    content_all = content_all+Fragment[i]"
   ]
  },
  {
   "cell_type": "code",
   "execution_count": 44,
   "metadata": {
    "collapsed": false
   },
   "outputs": [
    {
     "data": {
      "text/plain": [
       "679308"
      ]
     },
     "execution_count": 44,
     "metadata": {},
     "output_type": "execute_result"
    }
   ],
   "source": [
    "len(content_all)"
   ]
  },
  {
   "cell_type": "code",
   "execution_count": null,
   "metadata": {
    "collapsed": true
   },
   "outputs": [],
   "source": [
    "# Collection Frequency\n",
    "from collections import Counter\n",
    "c=Counter(content_all)\n",
    "dictionary_sort = c.most_common()"
   ]
  },
  {
   "cell_type": "code",
   "execution_count": 48,
   "metadata": {
    "collapsed": false
   },
   "outputs": [],
   "source": [
    "Vocabulary_V = []\n",
    "for i in range(0,45139):\n",
    "    Vocabulary_V.append(dictionary_sort[i][0])"
   ]
  },
  {
   "cell_type": "code",
   "execution_count": 51,
   "metadata": {
    "collapsed": false
   },
   "outputs": [
    {
     "data": {
      "text/plain": [
       "45139"
      ]
     },
     "execution_count": 51,
     "metadata": {},
     "output_type": "execute_result"
    }
   ],
   "source": [
    "# |v|\n",
    "len(Vocabulary_V)"
   ]
  },
  {
   "cell_type": "markdown",
   "metadata": {},
   "source": [
    "# Read TestData"
   ]
  },
  {
   "cell_type": "code",
   "execution_count": 53,
   "metadata": {
    "collapsed": false
   },
   "outputs": [],
   "source": [
    "# read document & save separately\n",
    "w, h = 2, 1500; #col & row\n",
    "Fragment_test = [[0 for x in range(w)] for y in range(h)] \n",
    "c = 0\n",
    "\n",
    "f1 = open('TestData.txt', 'r', encoding='UTF-8')\n",
    "for line in f1:\n",
    "    Fragment_test[c] = line\n",
    "    c = c+1"
   ]
  },
  {
   "cell_type": "code",
   "execution_count": 55,
   "metadata": {
    "collapsed": false
   },
   "outputs": [
    {
     "data": {
      "text/plain": [
       "1500"
      ]
     },
     "execution_count": 55,
     "metadata": {},
     "output_type": "execute_result"
    }
   ],
   "source": [
    "len(Fragment_test)"
   ]
  },
  {
   "cell_type": "code",
   "execution_count": 56,
   "metadata": {
    "collapsed": false
   },
   "outputs": [],
   "source": [
    "# remove punctuation\n",
    "puncList = [\"[\",\".\",\"!\",\"/\",\"-\",\">\",\"<\",\"$\",\"%\",\"^\",\"*\",\"(\",\"?\",\"]\",\"|\",\"[\",\"—\",\"！\",\"，\",\"。\",\"？\",\"、\",\"（\",\"）\",\"：\",\"」\",\"「\",\")\",\"(\",\"【\",\"】\",\"╱\",\"；\",\"]\",\"=\",\"「\",\"」\",\"‧\",\"（\",\"）\",\".\",\"~\",\"]\",\":\",\"《\",\"》\"]\n",
    "length_test = len(Fragment_test)\n",
    "for i in range(0,length_test):\n",
    "    for pun in puncList:\n",
    "        Fragment_test[i]= Fragment_test[i].replace(pun,\" \")"
   ]
  },
  {
   "cell_type": "code",
   "execution_count": 58,
   "metadata": {
    "collapsed": true
   },
   "outputs": [],
   "source": [
    "# Remove \\t, \\u3000,\\n\n",
    "temp = [\"\\t\",\"\\u3000\",\"\\n\"]\n",
    "length_test = len(Fragment_test)\n",
    "for i in range (0,length_test):\n",
    "    for a in temp:\n",
    "        Fragment_test[i]= Fragment_test[i].replace(a,\" \")"
   ]
  },
  {
   "cell_type": "code",
   "execution_count": 60,
   "metadata": {
    "collapsed": true
   },
   "outputs": [],
   "source": [
    "# split\n",
    "Fragment_test_split = Fragment_test\n",
    "length_test = len(Fragment_test)\n",
    "for i in range (0,length_test):\n",
    "    Fragment_test_split[i] = Fragment_test_split[i].split()"
   ]
  },
  {
   "cell_type": "code",
   "execution_count": 62,
   "metadata": {
    "collapsed": true
   },
   "outputs": [],
   "source": [
    "# Remove stopword\n",
    "length_test = len(Fragment_test)\n",
    "for c in range(0,length_test):\n",
    "    for a in range(0,168):\n",
    "       temp = len(Fragment_test_split[c])\n",
    "       for b in range(0,temp):\n",
    "        if Fragment_test_split[c][b] == stopword[a]:\n",
    "           Fragment_test_split[c][b] = \"\""
   ]
  },
  {
   "cell_type": "code",
   "execution_count": 64,
   "metadata": {
    "collapsed": true
   },
   "outputs": [],
   "source": [
    "# remove DocID\n",
    "length_test = len(Fragment_test)\n",
    "for i in range (0,length_test):\n",
    "    del Fragment_test_split[i][0]"
   ]
  },
  {
   "cell_type": "code",
   "execution_count": 66,
   "metadata": {
    "collapsed": false
   },
   "outputs": [],
   "source": [
    "# remove space\n",
    "length_test = len(Fragment_test)\n",
    "for i in range (0,length_test):\n",
    "    Fragment_test_split[i] = ' '.join(Fragment_test_split[i]).split()"
   ]
  },
  {
   "cell_type": "code",
   "execution_count": 68,
   "metadata": {
    "collapsed": false
   },
   "outputs": [
    {
     "data": {
      "text/plain": [
       "405"
      ]
     },
     "execution_count": 68,
     "metadata": {},
     "output_type": "execute_result"
    }
   ],
   "source": [
    "len(Fragment_test_split[0])"
   ]
  },
  {
   "cell_type": "markdown",
   "metadata": {
    "collapsed": true
   },
   "source": [
    "## =============   Naïve-Bayes Classification   ============="
   ]
  },
  {
   "cell_type": "code",
   "execution_count": 69,
   "metadata": {
    "collapsed": true
   },
   "outputs": [],
   "source": [
    "################## P(c): sports ##################"
   ]
  },
  {
   "cell_type": "code",
   "execution_count": 70,
   "metadata": {
    "collapsed": false
   },
   "outputs": [
    {
     "name": "stderr",
     "output_type": "stream",
     "text": [
      "100%|████████████████████████████████████████████████████████████████████████████| 1500/1500 [1:05:40<00:00,  2.31s/it]\n"
     ]
    }
   ],
   "source": [
    "# TF of testing sports\n",
    "import time\n",
    "from tqdm import *\n",
    "testing_sports_TF = []\n",
    "aa = len(Fragment_test_split)\n",
    "\n",
    "for i in tqdm(range(0,aa)):\n",
    "    QQ=[]\n",
    "    bb = len(Fragment_test_split[i])\n",
    "    for j in range(0,bb):\n",
    "        count = list_Sports_all.count(Fragment_test_split[i][j])\n",
    "        QQ.append(count)\n",
    "    testing_sports_TF.append(QQ)"
   ]
  },
  {
   "cell_type": "code",
   "execution_count": 72,
   "metadata": {
    "collapsed": false
   },
   "outputs": [
    {
     "data": {
      "text/plain": [
       "405"
      ]
     },
     "execution_count": 72,
     "metadata": {},
     "output_type": "execute_result"
    }
   ],
   "source": [
    "len(testing_sports_TF[0])"
   ]
  },
  {
   "cell_type": "code",
   "execution_count": 73,
   "metadata": {
    "collapsed": false
   },
   "outputs": [
    {
     "data": {
      "text/plain": [
       "1500"
      ]
     },
     "execution_count": 73,
     "metadata": {},
     "output_type": "execute_result"
    }
   ],
   "source": [
    "len(testing_sports_TF)"
   ]
  },
  {
   "cell_type": "code",
   "execution_count": null,
   "metadata": {
    "collapsed": true
   },
   "outputs": [],
   "source": []
  },
  {
   "cell_type": "code",
   "execution_count": 74,
   "metadata": {
    "collapsed": false
   },
   "outputs": [
    {
     "name": "stderr",
     "output_type": "stream",
     "text": [
      "100%|████████████████████████████████████████████████████████████████████████████| 1500/1500 [00:00<00:00, 3191.70it/s]\n"
     ]
    }
   ],
   "source": [
    "# calculating\n",
    "import time\n",
    "from tqdm import *\n",
    "import numpy as np\n",
    "\n",
    "NB_sports = []\n",
    "length_test = len(Fragment_test_split)\n",
    "for i in tqdm(range(0,length_test)):\n",
    "    length_temp = len(Fragment_test_split[i])\n",
    "    kk=[]\n",
    "    for j in range (0,length_temp):\n",
    "        a = testing_sports_TF[i][j]\n",
    "        b = len(list_Sports_all)\n",
    "        c = len(Vocabulary_V)\n",
    "        count = np.log10((a+1)/(b+c))\n",
    "        kk.append(count)\n",
    "    NB_sports.append(kk)"
   ]
  },
  {
   "cell_type": "code",
   "execution_count": 76,
   "metadata": {
    "collapsed": true
   },
   "outputs": [],
   "source": [
    "import numpy as np\n",
    "temp = 0\n",
    "\n",
    "NB_sports_new = []\n",
    "length_test = len(NB_sports)\n",
    "for i in range (0,length_test):\n",
    "    length_tmp = len(NB_sports[i])\n",
    "    for j in range (0,length_tmp):\n",
    "        aa = NB_sports[i][j]\n",
    "        temp = temp+aa\n",
    "    temp2 = np.log10(2000/3500)+temp\n",
    "    NB_sports_new.append(temp2)\n",
    "    temp = 0\n",
    "    temp2 = 0"
   ]
  },
  {
   "cell_type": "code",
   "execution_count": 78,
   "metadata": {
    "collapsed": true
   },
   "outputs": [],
   "source": [
    "################## P(~c): politics ##################"
   ]
  },
  {
   "cell_type": "code",
   "execution_count": 79,
   "metadata": {
    "collapsed": false
   },
   "outputs": [
    {
     "name": "stderr",
     "output_type": "stream",
     "text": [
      "100%|██████████████████████████████████████████████████████████████████████████████| 1500/1500 [32:44<00:00,  1.01it/s]\n"
     ]
    }
   ],
   "source": [
    "# TF of testing politics\n",
    "import time\n",
    "from tqdm import *\n",
    "testing_politics_TF = []\n",
    "aa = len(Fragment_test_split)\n",
    "\n",
    "for i in tqdm(range(0,aa)):\n",
    "    QQ=[]\n",
    "    bb = len(Fragment_test_split[i])\n",
    "    for j in range(0,bb):\n",
    "        count = list_Politics_all.count(Fragment_test_split[i][j])\n",
    "        QQ.append(count)\n",
    "    testing_politics_TF.append(QQ)"
   ]
  },
  {
   "cell_type": "code",
   "execution_count": 81,
   "metadata": {
    "collapsed": false
   },
   "outputs": [
    {
     "data": {
      "text/plain": [
       "1500"
      ]
     },
     "execution_count": 81,
     "metadata": {},
     "output_type": "execute_result"
    }
   ],
   "source": [
    "len(testing_politics_TF)"
   ]
  },
  {
   "cell_type": "code",
   "execution_count": 82,
   "metadata": {
    "collapsed": false
   },
   "outputs": [
    {
     "data": {
      "text/plain": [
       "405"
      ]
     },
     "execution_count": 82,
     "metadata": {},
     "output_type": "execute_result"
    }
   ],
   "source": [
    "len(testing_politics_TF[0])"
   ]
  },
  {
   "cell_type": "code",
   "execution_count": null,
   "metadata": {
    "collapsed": true
   },
   "outputs": [],
   "source": []
  },
  {
   "cell_type": "code",
   "execution_count": 83,
   "metadata": {
    "collapsed": false
   },
   "outputs": [
    {
     "name": "stderr",
     "output_type": "stream",
     "text": [
      "100%|████████████████████████████████████████████████████████████████████████████| 1500/1500 [00:00<00:00, 3160.08it/s]\n"
     ]
    }
   ],
   "source": [
    "# calculating\n",
    "import time\n",
    "from tqdm import *\n",
    "import numpy as np\n",
    "\n",
    "NB_politics = []\n",
    "length_test = len(Fragment_test_split)\n",
    "for i in tqdm(range(0,length_test)):\n",
    "    length_temp = len(Fragment_test_split[i])\n",
    "    kk=[]\n",
    "    for j in range (0,length_temp):\n",
    "        a = testing_politics_TF[i][j]\n",
    "        b = len(list_Politics_all)\n",
    "        c = len(Vocabulary_V)\n",
    "        count = np.log10((a+1)/(b+c))\n",
    "        kk.append(count)\n",
    "    NB_politics.append(kk)"
   ]
  },
  {
   "cell_type": "code",
   "execution_count": 84,
   "metadata": {
    "collapsed": true
   },
   "outputs": [],
   "source": [
    "import numpy as np\n",
    "temp = 0\n",
    "\n",
    "NB_politics_new = []\n",
    "length_test = len(NB_politics)\n",
    "for i in range (0,length_test):\n",
    "    length_tmp = len(NB_politics[i])\n",
    "    for j in range (0,length_tmp):\n",
    "        aa = NB_politics[i][j]\n",
    "        temp = temp+aa\n",
    "    temp2 = np.log10(1500/3500)+temp\n",
    "    NB_politics_new.append(temp2)\n",
    "    temp = 0\n",
    "    temp2 = 0"
   ]
  },
  {
   "cell_type": "code",
   "execution_count": null,
   "metadata": {
    "collapsed": true
   },
   "outputs": [],
   "source": [
    "################## P(c):sports  vs  P(~c): politics ##################"
   ]
  },
  {
   "cell_type": "code",
   "execution_count": 86,
   "metadata": {
    "collapsed": true
   },
   "outputs": [],
   "source": [
    "Ans_list = []\n",
    "Ans_A = \"sports\"\n",
    "Ans_B = \"politics\"\n",
    "\n",
    "length_test = len(Fragment_test)\n",
    "for i in range (0,length_test):\n",
    "    if NB_sports_new[i] > NB_politics_new[i]:\n",
    "        Ans_list.append(Ans_A)\n",
    "    else:\n",
    "        Ans_list.append(Ans_B)"
   ]
  },
  {
   "cell_type": "markdown",
   "metadata": {},
   "source": [
    "# Ans"
   ]
  },
  {
   "cell_type": "code",
   "execution_count": 131,
   "metadata": {
    "collapsed": true
   },
   "outputs": [],
   "source": [
    "add = []\n",
    "\n",
    "for i, t in enumerate(Ans_list):\n",
    "    num = i+3501\n",
    "    add.append(num)\n",
    "\n",
    "dictionary = dict(zip(add, Ans_list))"
   ]
  },
  {
   "cell_type": "markdown",
   "metadata": {
    "collapsed": true
   },
   "source": [
    "# Save the Result"
   ]
  },
  {
   "cell_type": "code",
   "execution_count": 146,
   "metadata": {
    "collapsed": true
   },
   "outputs": [],
   "source": [
    "def write_report(r, filename):\n",
    "    input_file=open(filename, \"a\")\n",
    "    for k, v in r.items():\n",
    "        line = '{}: {}'.format(k, v) \n",
    "        print(line, file=input_file)        \n",
    "    input_file.close()"
   ]
  },
  {
   "cell_type": "code",
   "execution_count": 147,
   "metadata": {
    "collapsed": false
   },
   "outputs": [],
   "source": [
    "outname=\"Result.txt\"\n",
    "write_report(dictionary,outname)"
   ]
  }
 ],
 "metadata": {
  "anaconda-cloud": {},
  "kernelspec": {
   "display_name": "Python [default]",
   "language": "python",
   "name": "python3"
  },
  "language_info": {
   "codemirror_mode": {
    "name": "ipython",
    "version": 3
   },
   "file_extension": ".py",
   "mimetype": "text/x-python",
   "name": "python",
   "nbconvert_exporter": "python",
   "pygments_lexer": "ipython3",
   "version": "3.5.2"
  }
 },
 "nbformat": 4,
 "nbformat_minor": 1
}
